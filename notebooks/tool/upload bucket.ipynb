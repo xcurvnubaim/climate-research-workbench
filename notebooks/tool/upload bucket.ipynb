{
 "cells": [
  {
   "cell_type": "code",
   "execution_count": 6,
   "id": "503f3fd1-8bc7-4e4e-9ed9-dc443aa6fcc3",
   "metadata": {},
   "outputs": [],
   "source": [
    "!pip install -q s3fs"
   ]
  },
  {
   "cell_type": "code",
   "execution_count": 2,
   "id": "5533da12-5bf7-4a19-83f8-40b873032b04",
   "metadata": {},
   "outputs": [
    {
     "name": "stdout",
     "output_type": "stream",
     "text": [
      "[1/9] Uploaded SEA_b.e21.BWSSP245cmip6.f09_g17.CMIP6-SSP2-4.5-WACCM.001.cam.h1.TREFHT.20250101-20341231.nc (17.33 MB) → s3://aria/SSP2-4.5/sliced/SEA_b.e21.BWSSP245cmip6.f09_g17.CMIP6-SSP2-4.5-WACCM.001.cam.h1.TREFHT.20250101-20341231.nc [11.1%]\n",
      "[2/9] Uploaded SEA_b.e21.BWSSP245cmip6.f09_g17.CMIP6-SSP2-4.5-WACCM.001.cam.h1.TREFHT.20150101-20241231.nc (17.34 MB) → s3://aria/SSP2-4.5/sliced/SEA_b.e21.BWSSP245cmip6.f09_g17.CMIP6-SSP2-4.5-WACCM.001.cam.h1.TREFHT.20150101-20241231.nc [22.2%]\n",
      "[3/9] Uploaded SEA_b.e21.BWSSP245cmip6.f09_g17.CMIP6-SSP2-4.5-WACCM.001.cam.h1.TREFHT.20950101-21001231.nc (10.44 MB) → s3://aria/SSP2-4.5/sliced/SEA_b.e21.BWSSP245cmip6.f09_g17.CMIP6-SSP2-4.5-WACCM.001.cam.h1.TREFHT.20950101-21001231.nc [33.3%]\n",
      "[4/9] Uploaded SEA_b.e21.BWSSP245cmip6.f09_g17.CMIP6-SSP2-4.5-WACCM.001.cam.h1.TREFHT.20450101-20541231.nc (17.30 MB) → s3://aria/SSP2-4.5/sliced/SEA_b.e21.BWSSP245cmip6.f09_g17.CMIP6-SSP2-4.5-WACCM.001.cam.h1.TREFHT.20450101-20541231.nc [44.4%]\n",
      "[5/9] Uploaded SEA_b.e21.BWSSP245cmip6.f09_g17.CMIP6-SSP2-4.5-WACCM.001.cam.h1.TREFHT.20750101-20841231.nc (17.30 MB) → s3://aria/SSP2-4.5/sliced/SEA_b.e21.BWSSP245cmip6.f09_g17.CMIP6-SSP2-4.5-WACCM.001.cam.h1.TREFHT.20750101-20841231.nc [55.6%]\n",
      "[6/9] Uploaded SEA_b.e21.BWSSP245cmip6.f09_g17.CMIP6-SSP2-4.5-WACCM.001.cam.h1.TREFHT.20850101-20941231.nc (17.33 MB) → s3://aria/SSP2-4.5/sliced/SEA_b.e21.BWSSP245cmip6.f09_g17.CMIP6-SSP2-4.5-WACCM.001.cam.h1.TREFHT.20850101-20941231.nc [66.7%]\n",
      "[7/9] Uploaded SEA_b.e21.BWSSP245cmip6.f09_g17.CMIP6-SSP2-4.5-WACCM.001.cam.h1.TREFHT.20350101-20441231.nc (17.32 MB) → s3://aria/SSP2-4.5/sliced/SEA_b.e21.BWSSP245cmip6.f09_g17.CMIP6-SSP2-4.5-WACCM.001.cam.h1.TREFHT.20350101-20441231.nc [77.8%]\n",
      "[8/9] Uploaded SEA_b.e21.BWSSP245cmip6.f09_g17.CMIP6-SSP2-4.5-WACCM.001.cam.h1.TREFHT.20650101-20741231.nc (17.27 MB) → s3://aria/SSP2-4.5/sliced/SEA_b.e21.BWSSP245cmip6.f09_g17.CMIP6-SSP2-4.5-WACCM.001.cam.h1.TREFHT.20650101-20741231.nc [88.9%]\n",
      "[9/9] Uploaded SEA_b.e21.BWSSP245cmip6.f09_g17.CMIP6-SSP2-4.5-WACCM.001.cam.h1.TREFHT.20550101-20641231.nc (17.28 MB) → s3://aria/SSP2-4.5/sliced/SEA_b.e21.BWSSP245cmip6.f09_g17.CMIP6-SSP2-4.5-WACCM.001.cam.h1.TREFHT.20550101-20641231.nc [100.0%]\n"
     ]
    }
   ],
   "source": [
    "import os\n",
    "import s3fs\n",
    "\n",
    "# ✅ CONFIGURATION\n",
    "ACCESS_KEY = os.getenv(\"S3_BUCKET_ACCESS_KEY\")\n",
    "SECRET_KEY = os.getenv(\"S3_BUCKET_SECRET_KEY\")\n",
    "ENDPOINT_URL = f'https://{os.getenv(\"S3_BUCKET_HOST\")}'\n",
    "BUCKET_NAME = 'aria'\n",
    "TARGET_DIR = 'SSP2-4.5/sliced'\n",
    "LOCAL_DIR = 'sliced'\n",
    "\n",
    "# ✅ Connect to Wasabi\n",
    "fs = s3fs.S3FileSystem(\n",
    "    key=ACCESS_KEY,\n",
    "    secret=SECRET_KEY,\n",
    "    client_kwargs={\n",
    "        'region_name': 'ap-southeast-1',\n",
    "        'endpoint_url': ENDPOINT_URL\n",
    "    }\n",
    ")\n",
    "\n",
    "# ✅ Gather all files\n",
    "upload_files = []\n",
    "for root, _, files in os.walk(LOCAL_DIR):\n",
    "    for file in files:\n",
    "        local_path = os.path.join(root, file)\n",
    "        rel_path = os.path.relpath(local_path, LOCAL_DIR)\n",
    "        s3_path = f\"{BUCKET_NAME}/{TARGET_DIR}/{rel_path}\"\n",
    "        upload_files.append((local_path, s3_path))\n",
    "\n",
    "total_files = len(upload_files)\n",
    "\n",
    "# ✅ Upload with progress\n",
    "for i, (local_path, s3_path) in enumerate(upload_files, 1):\n",
    "    file_size_mb = os.path.getsize(local_path) / (1024 * 1024)\n",
    "    fs.put_file(local_path, s3_path)\n",
    "    percent = (i / total_files) * 100\n",
    "    print(f\"[{i}/{total_files}] Uploaded {os.path.basename(local_path)} ({file_size_mb:.2f} MB) → s3://{s3_path} [{percent:.1f}%]\")"
   ]
  }
 ],
 "metadata": {
  "kernelspec": {
   "display_name": "Python 3 (ipykernel)",
   "language": "python",
   "name": "python3"
  },
  "language_info": {
   "codemirror_mode": {
    "name": "ipython",
    "version": 3
   },
   "file_extension": ".py",
   "mimetype": "text/x-python",
   "name": "python",
   "nbconvert_exporter": "python",
   "pygments_lexer": "ipython3",
   "version": "3.12.1"
  }
 },
 "nbformat": 4,
 "nbformat_minor": 5
}
